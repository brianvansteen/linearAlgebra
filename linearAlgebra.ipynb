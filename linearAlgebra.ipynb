{
  "nbformat": 4,
  "nbformat_minor": 0,
  "metadata": {
    "colab": {
      "provenance": [],
      "toc_visible": true,
      "authorship_tag": "ABX9TyMTiYa1OLf1H8xyiIGTHBk6",
      "include_colab_link": true
    },
    "kernelspec": {
      "name": "python3",
      "display_name": "Python 3"
    },
    "language_info": {
      "name": "python"
    }
  },
  "cells": [
    {
      "cell_type": "markdown",
      "metadata": {
        "id": "view-in-github",
        "colab_type": "text"
      },
      "source": [
        "<a href=\"https://colab.research.google.com/github/brianvansteen/linearAlgebra/blob/main/linearAlgebra.ipynb\" target=\"_parent\"><img src=\"https://colab.research.google.com/assets/colab-badge.svg\" alt=\"Open In Colab\"/></a>"
      ]
    },
    {
      "cell_type": "code",
      "source": [
        "import numpy as np\n",
        "import torch\n",
        "import tensorflow as tf"
      ],
      "metadata": {
        "id": "glUDnnGRwT0w"
      },
      "execution_count": 7,
      "outputs": []
    },
    {
      "cell_type": "code",
      "execution_count": 8,
      "metadata": {
        "id": "DDBxEimzVH62"
      },
      "outputs": [],
      "source": [
        "asList  = [1,2,3]\n",
        "asArray = np.array([1,2,3]) # 1D array or vector\n",
        "rowVec  = np.array([ [1,2,3] ]) # row\n",
        "colVec  = np.array([ [1],[2],[3] ]) # column"
      ]
    },
    {
      "cell_type": "code",
      "source": [
        "print(f'asList:  {np.shape(asList)}')\n",
        "print(f'asArray: {asArray.shape}')\n",
        "print(f'rowVec:  {rowVec.shape}')\n",
        "print(f'colVec:  {colVec.shape}')"
      ],
      "metadata": {
        "colab": {
          "base_uri": "https://localhost:8080/"
        },
        "id": "SJr7Bfc5wkEM",
        "outputId": "f1441b64-fae2-4428-ecb4-6207704e4e0a"
      },
      "execution_count": 9,
      "outputs": [
        {
          "output_type": "stream",
          "name": "stdout",
          "text": [
            "asList:  (3,)\n",
            "asArray: (3,)\n",
            "rowVec:  (1, 3)\n",
            "colVec:  (3, 1)\n"
          ]
        }
      ]
    },
    {
      "cell_type": "code",
      "source": [],
      "metadata": {
        "id": "KYlh1qXhyHGR"
      },
      "execution_count": null,
      "outputs": []
    }
  ]
}